{
 "cells": [
  {
   "cell_type": "code",
   "execution_count": 3,
   "id": "1615fad4-0252-4661-b1ea-a25793a18e05",
   "metadata": {},
   "outputs": [
    {
     "name": "stdout",
     "output_type": "stream",
     "text": [
      "\n",
      "An array: [23 45 67 87 45 67]\n",
      "\n",
      "sum: 334\n",
      "product 1009671041\n",
      "mean: 55.666666666666664\n",
      "standard deviation: 20.548046676563256\n",
      "variance 422.22222222222223\n",
      "minimum value: 23\n",
      "max: 87\n",
      "min index: 0\n",
      "max index: 3\n",
      "median: 56.0\n",
      "product: 1009671041\n"
     ]
    }
   ],
   "source": [
    "#Array Aggregation Functions[NUMPY]\n",
    "import numpy as n\n",
    "a=n.array([23,45,67,87,45,67])\n",
    "print(\"\\nAn array:\",a)\n",
    "print(\"\\nsum:\",n.sum(a))\n",
    "print(\"product\",n.prod(a))\n",
    "print(\"mean:\",n.mean(a))\n",
    "print(\"standard deviation:\",n.std(a))\n",
    "print(\"variance\",n.var(a))\n",
    "print(\"minimum value:\",n.min(a))\n",
    "print(\"max:\",n.max(a))\n",
    "print(\"min index:\",n.argmin(a))\n",
    "print(\"max index:\",n.argmax(a))\n",
    "print(\"median:\",n.median(a))\n",
    "print(\"product:\",n.prod(a))"
   ]
  },
  {
   "cell_type": "code",
   "execution_count": 5,
   "id": "8c49d5c8-8bf1-4275-9196-ed77419ca0ed",
   "metadata": {},
   "outputs": [
    {
     "name": "stdout",
     "output_type": "stream",
     "text": [
      "20\n",
      "time taken by vectorized product : 6.52 μs ± 167 ns per loop (mean ± std. dev. of 7 runs, 100,000 loops each)\n",
      "20\n",
      "time taken by iterative multiplication : 18.9 ns ± 3.03 ns per loop (mean ± std. dev. of 7 runs, 10,000,000 loops each)\n"
     ]
    }
   ],
   "source": [
    "#Vectorized Operations using NUMPY\n",
    "import numpy as np\n",
    "import timeit\n",
    "np.a=[4,5,1]\n",
    "print(np.prod(np.a))\n",
    "print(\"time taken by vectorized product : \",end=\"\")\n",
    "%timeit np.prod(np.a)\n",
    "\n",
    "total = 1\n",
    "for item in np.a:\n",
    "    total=total*item\n",
    "t=total\n",
    "print(t)\n",
    "print(\"time taken by iterative multiplication : \",end=\"\")\n",
    "%timeit t"
   ]
  },
  {
   "cell_type": "code",
   "execution_count": 7,
   "id": "70a54765-ca76-462e-9898-1a961b004e14",
   "metadata": {},
   "outputs": [
    {
     "name": "stdout",
     "output_type": "stream",
     "text": [
      "6\n",
      "time taken to vectorized sum:\n",
      "4.37 μs ± 110 ns per loop (mean ± std. dev. of 7 runs, 100,000 loops each)\n",
      "\n",
      " 6\n",
      "time taken by iterative sum:16.5 ns ± 0.223 ns per loop (mean ± std. dev. of 7 runs, 100,000,000 loops each)\n"
     ]
    }
   ],
   "source": [
    "#sum code\n",
    "import numpy as n\n",
    "import timeit\n",
    "print(n.sum(n.arange(4)))\n",
    "print(\"time taken to vectorized sum:\")\n",
    "%timeit n.sum(n.arange(4))\n",
    "\n",
    "t=0\n",
    "for i in range(0,4):\n",
    "    t+=i\n",
    "a=t\n",
    "print(\"\\n\",str(a))\n",
    "print(\"time taken by iterative sum:\",end=\"\")\n",
    "%timeit a"
   ]
  },
  {
   "cell_type": "code",
   "execution_count": null,
   "id": "f6214363-1208-4e8d-ba7a-dfeec4aed017",
   "metadata": {},
   "outputs": [],
   "source": []
  }
 ],
 "metadata": {
  "kernelspec": {
   "display_name": "Python 3 (ipykernel)",
   "language": "python",
   "name": "python3"
  },
  "language_info": {
   "codemirror_mode": {
    "name": "ipython",
    "version": 3
   },
   "file_extension": ".py",
   "mimetype": "text/x-python",
   "name": "python",
   "nbconvert_exporter": "python",
   "pygments_lexer": "ipython3",
   "version": "3.12.4"
  }
 },
 "nbformat": 4,
 "nbformat_minor": 5
}
